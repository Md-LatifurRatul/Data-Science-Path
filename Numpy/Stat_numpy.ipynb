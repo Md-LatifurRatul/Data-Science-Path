{
  "nbformat": 4,
  "nbformat_minor": 0,
  "metadata": {
    "colab": {
      "provenance": []
    },
    "kernelspec": {
      "name": "python3",
      "display_name": "Python 3"
    },
    "language_info": {
      "name": "python"
    }
  },
  "cells": [
    {
      "cell_type": "code",
      "execution_count": 10,
      "metadata": {
        "id": "riXjsIBW31I5"
      },
      "outputs": [],
      "source": [
        "import numpy as np\n",
        "from scipy import stats as st"
      ]
    },
    {
      "cell_type": "code",
      "source": [
        "a=np.array([20,10,20,15,15,20],)\n",
        "print(st.mode(a))"
      ],
      "metadata": {
        "colab": {
          "base_uri": "https://localhost:8080/"
        },
        "id": "L1myZuCpCcFo",
        "outputId": "4e593f8e-8d8f-47ca-e4ad-75d2f59072e4"
      },
      "execution_count": 17,
      "outputs": [
        {
          "output_type": "stream",
          "name": "stdout",
          "text": [
            "ModeResult(mode=20, count=3)\n"
          ]
        }
      ]
    },
    {
      "cell_type": "code",
      "source": [
        "b=np.array([[20,30,25,25,20],[0,0,5,105,10]])\n",
        "print((np.std(b,axis=1))**2)"
      ],
      "metadata": {
        "colab": {
          "base_uri": "https://localhost:8080/"
        },
        "id": "Q5IVemGiFzWU",
        "outputId": "abbf928e-8e79-4ec3-bdc7-9eb72424f55c"
      },
      "execution_count": 24,
      "outputs": [
        {
          "output_type": "stream",
          "name": "stdout",
          "text": [
            "[  14. 1654.]\n"
          ]
        }
      ]
    },
    {
      "cell_type": "code",
      "source": [
        "cgpa=np.array([3.5,2,5,4,2,9,4.6,5.0])"
      ],
      "metadata": {
        "id": "kld_Znd4HOZr"
      },
      "execution_count": 26,
      "outputs": []
    },
    {
      "cell_type": "code",
      "source": [
        "meaaaan=np.mean(cgpa)"
      ],
      "metadata": {
        "id": "_KR77vfjKCDZ"
      },
      "execution_count": 27,
      "outputs": []
    },
    {
      "cell_type": "code",
      "source": [
        "print(meaaaan)"
      ],
      "metadata": {
        "colab": {
          "base_uri": "https://localhost:8080/"
        },
        "id": "9ZJbIcE0KB7J",
        "outputId": "b09c662d-a915-4a09-b9fd-4cfcad98babd"
      },
      "execution_count": 28,
      "outputs": [
        {
          "output_type": "stream",
          "name": "stdout",
          "text": [
            "4.3875\n"
          ]
        }
      ]
    },
    {
      "cell_type": "code",
      "source": [
        "mooode=st.mode(cgpa)\n",
        "print(mooode)"
      ],
      "metadata": {
        "colab": {
          "base_uri": "https://localhost:8080/"
        },
        "id": "zDJqTOWAKXj5",
        "outputId": "fefa64ba-8ffa-4d85-cc5c-4c5676d485f1"
      },
      "execution_count": 31,
      "outputs": [
        {
          "output_type": "stream",
          "name": "stdout",
          "text": [
            "ModeResult(mode=2.0, count=2)\n"
          ]
        }
      ]
    },
    {
      "cell_type": "code",
      "source": [
        "print(np.median(cgpa))"
      ],
      "metadata": {
        "colab": {
          "base_uri": "https://localhost:8080/"
        },
        "id": "51b7jwdoKmQQ",
        "outputId": "9fb60d79-6d42-4e0a-8632-07b6fe50499e"
      },
      "execution_count": 32,
      "outputs": [
        {
          "output_type": "stream",
          "name": "stdout",
          "text": [
            "4.3\n"
          ]
        }
      ]
    },
    {
      "cell_type": "code",
      "source": [
        "print((np.std(cgpa))**2)"
      ],
      "metadata": {
        "colab": {
          "base_uri": "https://localhost:8080/"
        },
        "id": "uGhtLjN7KtGQ",
        "outputId": "81631944-3015-4dc4-954e-ef4dde7778de"
      },
      "execution_count": 34,
      "outputs": [
        {
          "output_type": "stream",
          "name": "stdout",
          "text": [
            "4.301093750000001\n"
          ]
        }
      ]
    }
  ]
}