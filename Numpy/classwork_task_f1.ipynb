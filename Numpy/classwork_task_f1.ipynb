{
  "cells": [
    {
      "cell_type": "code",
      "execution_count": null,
      "metadata": {
        "id": "5rmrql2uT3pg"
      },
      "outputs": [],
      "source": [
        "import numpy as np\n",
        "from scipy import stats as st\n"
      ]
    },
    {
      "cell_type": "code",
      "execution_count": null,
      "metadata": {
        "colab": {
          "base_uri": "https://localhost:8080/"
        },
        "id": "X91oSUx0T3pi",
        "outputId": "82370e48-1967-4e03-acd5-dc7b29c4d8ee"
      },
      "outputs": [
        {
          "name": "stdout",
          "output_type": "stream",
          "text": [
            "[[5 2 8]\n",
            " [1 2 5]\n",
            " [5 7 5]]\n",
            "[[1 1 6]\n",
            " [7 6 1]\n",
            " [4 5 8]]\n"
          ]
        }
      ],
      "source": [
        "matrix_a = np.random.randint(1, 11, size=(3, 3))\n",
        "matrix_b = np.random.randint(1, 11, size=(3, 3))\n",
        "\n",
        "print(matrix_a)\n",
        "print(matrix_b)"
      ]
    },
    {
      "cell_type": "code",
      "execution_count": null,
      "metadata": {
        "colab": {
          "base_uri": "https://localhost:8080/"
        },
        "id": "U3yEwNZ1T3pi",
        "outputId": "24809c1a-c5ab-4749-d793-b4c878c8cc77"
      },
      "outputs": [
        {
          "name": "stdout",
          "output_type": "stream",
          "text": [
            "[[ 6  3 14]\n",
            " [ 8  8  6]\n",
            " [ 9 12 13]]\n"
          ]
        }
      ],
      "source": [
        "matrix_c = matrix_a + matrix_b\n",
        "print(matrix_c)"
      ]
    },
    {
      "cell_type": "code",
      "execution_count": null,
      "metadata": {
        "id": "-ow7TGe4T3pj"
      },
      "outputs": [],
      "source": [
        "matrix_d = matrix_a.dot(matrix_b)"
      ]
    },
    {
      "cell_type": "code",
      "execution_count": null,
      "metadata": {
        "colab": {
          "base_uri": "https://localhost:8080/"
        },
        "id": "fnwp5xeYT3pj",
        "outputId": "ec7dac3c-1ddf-4535-a958-186cfc00b3bd"
      },
      "outputs": [
        {
          "data": {
            "text/plain": [
              "array([[51, 57, 96],\n",
              "       [35, 38, 48],\n",
              "       [74, 72, 77]])"
            ]
          },
          "execution_count": 5,
          "metadata": {},
          "output_type": "execute_result"
        }
      ],
      "source": [
        "matrix_d"
      ]
    },
    {
      "cell_type": "code",
      "execution_count": null,
      "metadata": {
        "id": "AbMkXwy4T3pj"
      },
      "outputs": [],
      "source": [
        "a_mean = np.mean(matrix_a)\n",
        "b_mean = np.mean(matrix_b)\n",
        "d_mean = np.mean(matrix_d)"
      ]
    },
    {
      "cell_type": "code",
      "execution_count": null,
      "metadata": {
        "colab": {
          "base_uri": "https://localhost:8080/"
        },
        "id": "lCkHyWhlT3pk",
        "outputId": "8e00a49a-7202-446d-88c0-482696b8398d"
      },
      "outputs": [
        {
          "name": "stdout",
          "output_type": "stream",
          "text": [
            "4.444444444444445\n",
            "4.333333333333333\n",
            "60.888888888888886\n"
          ]
        }
      ],
      "source": [
        "print(a_mean)\n",
        "print(b_mean)\n",
        "print(d_mean)"
      ]
    },
    {
      "cell_type": "code",
      "execution_count": null,
      "metadata": {
        "id": "cPMqLT0iT3pk"
      },
      "outputs": [],
      "source": [
        "a_mode = st.mode(matrix_a)\n",
        "b_mode = st.mode(matrix_b)\n",
        "d_mode = st.mode(matrix_d)"
      ]
    },
    {
      "cell_type": "code",
      "execution_count": null,
      "metadata": {
        "colab": {
          "base_uri": "https://localhost:8080/"
        },
        "id": "yW3nSekRT3pk",
        "outputId": "f2f54b4c-00f9-44bb-fea1-01b1cd427e2d"
      },
      "outputs": [
        {
          "name": "stdout",
          "output_type": "stream",
          "text": [
            "ModeResult(mode=array([5, 2, 5]), count=array([2, 2, 2]))\n",
            "ModeResult(mode=array([1, 1, 1]), count=array([1, 1, 1]))\n",
            "ModeResult(mode=array([35, 38, 48]), count=array([1, 1, 1]))\n"
          ]
        }
      ],
      "source": [
        "print(a_mode)\n",
        "print(b_mode)\n",
        "print(d_mode)"
      ]
    },
    {
      "cell_type": "code",
      "execution_count": null,
      "metadata": {
        "id": "weAapNVnV6Lg"
      },
      "outputs": [],
      "source": [
        "a_std = np.std(matrix_a)\n",
        "b_std = np.std(matrix_b)\n",
        "d_std = np.std(matrix_d)"
      ]
    },
    {
      "cell_type": "code",
      "execution_count": null,
      "metadata": {
        "colab": {
          "base_uri": "https://localhost:8080/"
        },
        "id": "CFaGd2TGWGxo",
        "outputId": "3700a8bf-305a-4d0e-86fc-e38ac8e3543e"
      },
      "outputs": [
        {
          "name": "stdout",
          "output_type": "stream",
          "text": [
            "2.2166597048066667\n",
            "2.581988897471611\n",
            "19.03473108962459\n"
          ]
        }
      ],
      "source": [
        "print(a_std)\n",
        "print(b_std)\n",
        "print(d_std)"
      ]
    },
    {
      "cell_type": "code",
      "execution_count": null,
      "metadata": {
        "id": "YYJxTH_eWJm_"
      },
      "outputs": [],
      "source": [
        "a_var = (a_std)**2\n",
        "b_var = (b_std)**2\n",
        "d_var = (d_std)**2"
      ]
    },
    {
      "cell_type": "code",
      "execution_count": null,
      "metadata": {
        "colab": {
          "base_uri": "https://localhost:8080/"
        },
        "id": "z_1sF4MhWZdH",
        "outputId": "ec49925a-817d-4bf1-f6f3-59e37e9e9702"
      },
      "outputs": [
        {
          "name": "stdout",
          "output_type": "stream",
          "text": [
            "4.913580246913579\n",
            "6.666666666666666\n",
            "362.3209876543209\n"
          ]
        }
      ],
      "source": [
        "print(a_var)\n",
        "print(b_var)\n",
        "print(d_var)"
      ]
    },
    {
      "cell_type": "code",
      "execution_count": null,
      "metadata": {
        "id": "NANsRBPCWc-f"
      },
      "outputs": [],
      "source": [
        "a_t = np.transpose(matrix_a)"
      ]
    },
    {
      "cell_type": "code",
      "execution_count": null,
      "metadata": {
        "colab": {
          "base_uri": "https://localhost:8080/"
        },
        "id": "SuXypxMeWrK3",
        "outputId": "153d9f53-50e3-498d-c149-b6615267bb72"
      },
      "outputs": [
        {
          "name": "stdout",
          "output_type": "stream",
          "text": [
            "[[5 1 5]\n",
            " [2 2 7]\n",
            " [8 5 5]]\n"
          ]
        }
      ],
      "source": [
        "print(a_t)"
      ]
    },
    {
      "cell_type": "code",
      "execution_count": null,
      "metadata": {
        "id": "wuun15oAWton"
      },
      "outputs": [],
      "source": [
        "deter1 = np.linalg.det(matrix_a)"
      ]
    },
    {
      "cell_type": "code",
      "execution_count": null,
      "metadata": {
        "colab": {
          "base_uri": "https://localhost:8080/"
        },
        "id": "mJawtStfXQyn",
        "outputId": "7eebea5e-5c5b-4f3e-d1f3-0685e5961f23"
      },
      "outputs": [
        {
          "name": "stdout",
          "output_type": "stream",
          "text": [
            "-108.99999999999997\n"
          ]
        }
      ],
      "source": [
        "print(deter1)"
      ]
    },
    {
      "cell_type": "code",
      "execution_count": null,
      "metadata": {
        "id": "05S71gMsXVFH"
      },
      "outputs": [],
      "source": [
        "deter2 = np.linalg.det(matrix_b)"
      ]
    },
    {
      "cell_type": "code",
      "execution_count": null,
      "metadata": {
        "colab": {
          "base_uri": "https://localhost:8080/"
        },
        "id": "aKNjoUMcXeF_",
        "outputId": "8315ebd4-9393-4d5c-9db1-68611ac81755"
      },
      "outputs": [
        {
          "name": "stdout",
          "output_type": "stream",
          "text": [
            "57.00000000000001\n"
          ]
        }
      ],
      "source": [
        "print(deter2)"
      ]
    },
    {
      "cell_type": "code",
      "execution_count": null,
      "metadata": {
        "id": "9AEy8yKzXf5_"
      },
      "outputs": [],
      "source": [
        "if deter1 != 0:\n",
        "    a_inv = np.linalg.inv(matrix_a)\n"
      ]
    },
    {
      "cell_type": "code",
      "execution_count": null,
      "metadata": {
        "colab": {
          "base_uri": "https://localhost:8080/"
        },
        "id": "sjfUDzjUYPSf",
        "outputId": "2b9c252c-d81a-4846-b749-362587a96d1a"
      },
      "outputs": [
        {
          "name": "stdout",
          "output_type": "stream",
          "text": [
            "[[ 0.2293578  -0.42201835  0.05504587]\n",
            " [-0.18348624  0.13761468  0.1559633 ]\n",
            " [ 0.02752294  0.2293578  -0.0733945 ]]\n"
          ]
        }
      ],
      "source": [
        "print(a_inv)"
      ]
    },
    {
      "cell_type": "code",
      "execution_count": null,
      "metadata": {
        "id": "hhMWkryvYRB3"
      },
      "outputs": [],
      "source": [
        "if deter2 != 0:\n",
        "    b_inv = np.linalg.inv(matrix_b)"
      ]
    },
    {
      "cell_type": "code",
      "execution_count": null,
      "metadata": {
        "colab": {
          "base_uri": "https://localhost:8080/"
        },
        "id": "9hlWRcL6Ycg3",
        "outputId": "a6c88432-9358-4e10-94c8-83bee7836074"
      },
      "outputs": [
        {
          "name": "stdout",
          "output_type": "stream",
          "text": [
            "[[ 0.75438596  0.38596491 -0.61403509]\n",
            " [-0.9122807  -0.28070175  0.71929825]\n",
            " [ 0.19298246 -0.01754386 -0.01754386]]\n"
          ]
        }
      ],
      "source": [
        "print(b_inv)"
      ]
    },
    {
      "cell_type": "code",
      "execution_count": null,
      "metadata": {
        "id": "6EJJsoLbYjin"
      },
      "outputs": [],
      "source": []
    }
  ],
  "metadata": {
    "colab": {
      "provenance": []
    },
    "kernelspec": {
      "display_name": "Python 3",
      "language": "python",
      "name": "python3"
    },
    "language_info": {
      "codemirror_mode": {
        "name": "ipython",
        "version": 3
      },
      "file_extension": ".py",
      "mimetype": "text/x-python",
      "name": "python",
      "nbconvert_exporter": "python",
      "pygments_lexer": "ipython3",
      "version": "3.12.2"
    }
  },
  "nbformat": 4,
  "nbformat_minor": 0
}
