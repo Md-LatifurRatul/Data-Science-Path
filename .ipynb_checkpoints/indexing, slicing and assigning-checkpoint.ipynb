{
 "cells": [
  {
   "cell_type": "code",
   "execution_count": 1,
   "id": "b9635fa7-2b9a-4646-ab3c-95fc61b01140",
   "metadata": {},
   "outputs": [],
   "source": [
    "import numpy as np"
   ]
  },
  {
   "cell_type": "code",
   "execution_count": 2,
   "id": "51c34b7b-007e-4120-9571-9548d662a74f",
   "metadata": {},
   "outputs": [],
   "source": [
    "array = np.arange(0, 11)"
   ]
  },
  {
   "cell_type": "code",
   "execution_count": 3,
   "id": "e1628903-48e7-4f61-9e37-2aa71fc17f15",
   "metadata": {},
   "outputs": [
    {
     "data": {
      "text/plain": [
       "array([ 0,  1,  2,  3,  4,  5,  6,  7,  8,  9, 10])"
      ]
     },
     "execution_count": 3,
     "metadata": {},
     "output_type": "execute_result"
    }
   ],
   "source": [
    "array"
   ]
  },
  {
   "cell_type": "code",
   "execution_count": 4,
   "id": "436ae377-14de-4a65-abca-a9e6409b3bb9",
   "metadata": {},
   "outputs": [
    {
     "data": {
      "text/plain": [
       "4"
      ]
     },
     "execution_count": 4,
     "metadata": {},
     "output_type": "execute_result"
    }
   ],
   "source": [
    "array[4]"
   ]
  },
  {
   "cell_type": "code",
   "execution_count": 5,
   "id": "ba6504ed-6f61-4662-afd5-ca97c4f566b6",
   "metadata": {},
   "outputs": [
    {
     "data": {
      "text/plain": [
       "9"
      ]
     },
     "execution_count": 5,
     "metadata": {},
     "output_type": "execute_result"
    }
   ],
   "source": [
    "array[-2]"
   ]
  },
  {
   "cell_type": "code",
   "execution_count": 6,
   "id": "df018801-02f1-4a7e-b83c-f07e46c0eb83",
   "metadata": {},
   "outputs": [
    {
     "data": {
      "text/plain": [
       "array([0, 1, 2, 3])"
      ]
     },
     "execution_count": 6,
     "metadata": {},
     "output_type": "execute_result"
    }
   ],
   "source": [
    "array[0:4]"
   ]
  },
  {
   "cell_type": "code",
   "execution_count": 10,
   "id": "3e652eb9-af74-4d9f-9150-62c46b2fe9a5",
   "metadata": {},
   "outputs": [],
   "source": [
    "var = np.array([[1, 2, 3], \n",
    "                [5, 10, 15], \n",
    "                [20, 30, 40]])"
   ]
  },
  {
   "cell_type": "code",
   "execution_count": 11,
   "id": "59f56beb-ef64-4dc2-9dc6-00a0a6646eeb",
   "metadata": {},
   "outputs": [
    {
     "data": {
      "text/plain": [
       "array([[ 1,  2,  3],\n",
       "       [ 5, 10, 15],\n",
       "       [20, 30, 40]])"
      ]
     },
     "execution_count": 11,
     "metadata": {},
     "output_type": "execute_result"
    }
   ],
   "source": [
    "var"
   ]
  },
  {
   "cell_type": "code",
   "execution_count": 15,
   "id": "b6cc85b8-5555-4d6f-b31c-8265c9afaabe",
   "metadata": {},
   "outputs": [
    {
     "data": {
      "text/plain": [
       "2"
      ]
     },
     "execution_count": 15,
     "metadata": {},
     "output_type": "execute_result"
    }
   ],
   "source": [
    "var[0][1]"
   ]
  },
  {
   "cell_type": "code",
   "execution_count": 16,
   "id": "7397e4b2-25fa-4aee-874f-db378377b997",
   "metadata": {},
   "outputs": [
    {
     "data": {
      "text/plain": [
       "2"
      ]
     },
     "execution_count": 16,
     "metadata": {},
     "output_type": "execute_result"
    }
   ],
   "source": [
    "var[0, 1]"
   ]
  },
  {
   "cell_type": "code",
   "execution_count": 17,
   "id": "4daf9452-9202-42cf-a6af-90210507dce5",
   "metadata": {},
   "outputs": [
    {
     "data": {
      "text/plain": [
       "40"
      ]
     },
     "execution_count": 17,
     "metadata": {},
     "output_type": "execute_result"
    }
   ],
   "source": [
    "var[2, 2]"
   ]
  },
  {
   "cell_type": "code",
   "execution_count": 18,
   "id": "a63ff35d-3faa-4743-8092-c54e5d450b84",
   "metadata": {},
   "outputs": [
    {
     "data": {
      "text/plain": [
       "20"
      ]
     },
     "execution_count": 18,
     "metadata": {},
     "output_type": "execute_result"
    }
   ],
   "source": [
    "var[-1, 0]"
   ]
  },
  {
   "cell_type": "code",
   "execution_count": 19,
   "id": "eb4bea12-1577-4666-8dab-f7983d891040",
   "metadata": {},
   "outputs": [
    {
     "data": {
      "text/plain": [
       "array([0, 1, 2])"
      ]
     },
     "execution_count": 19,
     "metadata": {},
     "output_type": "execute_result"
    }
   ],
   "source": [
    "array[0:3]"
   ]
  },
  {
   "cell_type": "code",
   "execution_count": 20,
   "id": "ef23372e-9b4a-4101-a94c-51e1078591c3",
   "metadata": {},
   "outputs": [
    {
     "data": {
      "text/plain": [
       "array([3, 5, 7, 9])"
      ]
     },
     "execution_count": 20,
     "metadata": {},
     "output_type": "execute_result"
    }
   ],
   "source": [
    "array[3::2]"
   ]
  },
  {
   "cell_type": "code",
   "execution_count": 21,
   "id": "62083f96-b2d8-4efc-8371-be759003e031",
   "metadata": {},
   "outputs": [
    {
     "data": {
      "text/plain": [
       "array([[ 1,  2,  3],\n",
       "       [ 5, 10, 15],\n",
       "       [20, 30, 40]])"
      ]
     },
     "execution_count": 21,
     "metadata": {},
     "output_type": "execute_result"
    }
   ],
   "source": [
    "var[0:3]"
   ]
  },
  {
   "cell_type": "code",
   "execution_count": 22,
   "id": "6647269b-fd9e-4ed3-b2be-6a9d5436385b",
   "metadata": {},
   "outputs": [
    {
     "data": {
      "text/plain": [
       "array([[ 1,  2,  3],\n",
       "       [ 5, 10, 15],\n",
       "       [20, 30, 40]])"
      ]
     },
     "execution_count": 22,
     "metadata": {},
     "output_type": "execute_result"
    }
   ],
   "source": [
    "var"
   ]
  },
  {
   "cell_type": "code",
   "execution_count": 23,
   "id": "37e84253-3bac-4608-9f33-c917b571f01d",
   "metadata": {},
   "outputs": [
    {
     "data": {
      "text/plain": [
       "array([[ 2,  3],\n",
       "       [10, 15]])"
      ]
     },
     "execution_count": 23,
     "metadata": {},
     "output_type": "execute_result"
    }
   ],
   "source": [
    "var[0:2, 1:3]"
   ]
  },
  {
   "cell_type": "code",
   "execution_count": 25,
   "id": "55ab9a21-1d84-4592-bb5f-1dde7894d305",
   "metadata": {},
   "outputs": [],
   "source": [
    "array1 = np.array([[2, 3, 4, 5, 6],\n",
    "                 [6, 7, 8, 4, 2],\n",
    "                 [10, 11, 12, 14, 15]])"
   ]
  },
  {
   "cell_type": "code",
   "execution_count": 26,
   "id": "0b25bf31-7944-498a-b318-7f70113eb114",
   "metadata": {},
   "outputs": [
    {
     "data": {
      "text/plain": [
       "array([[ 2,  3,  4,  5,  6],\n",
       "       [ 6,  7,  8,  4,  2],\n",
       "       [10, 11, 12, 14, 15]])"
      ]
     },
     "execution_count": 26,
     "metadata": {},
     "output_type": "execute_result"
    }
   ],
   "source": [
    "array1"
   ]
  },
  {
   "cell_type": "code",
   "execution_count": 28,
   "id": "745e363f-3d2a-488f-80cd-77843ad829a6",
   "metadata": {},
   "outputs": [
    {
     "data": {
      "text/plain": [
       "array([[ 2,  4,  6],\n",
       "       [10, 12, 15]])"
      ]
     },
     "execution_count": 28,
     "metadata": {},
     "output_type": "execute_result"
    }
   ],
   "source": [
    "array1[::2, ::2]"
   ]
  },
  {
   "cell_type": "code",
   "execution_count": 29,
   "id": "0d6e3328-843b-48dc-9e10-7a2a8697c933",
   "metadata": {},
   "outputs": [
    {
     "data": {
      "text/plain": [
       "array([ 0,  1,  2,  3,  4,  5,  6,  7,  8,  9, 10])"
      ]
     },
     "execution_count": 29,
     "metadata": {},
     "output_type": "execute_result"
    }
   ],
   "source": [
    "array"
   ]
  },
  {
   "cell_type": "code",
   "execution_count": 30,
   "id": "a44a70cf-9d1f-43c6-89e7-460cfdbb0b0f",
   "metadata": {},
   "outputs": [],
   "source": [
    "array[0] = 11"
   ]
  },
  {
   "cell_type": "code",
   "execution_count": 31,
   "id": "2d361761-34df-493a-aade-8a68368240c6",
   "metadata": {},
   "outputs": [
    {
     "data": {
      "text/plain": [
       "array([11,  1,  2,  3,  4,  5,  6,  7,  8,  9, 10])"
      ]
     },
     "execution_count": 31,
     "metadata": {},
     "output_type": "execute_result"
    }
   ],
   "source": [
    "array"
   ]
  },
  {
   "cell_type": "code",
   "execution_count": 32,
   "id": "9169d318-d013-4b35-904e-495ed0daa301",
   "metadata": {},
   "outputs": [],
   "source": [
    "array[0:3] = 11"
   ]
  },
  {
   "cell_type": "code",
   "execution_count": 33,
   "id": "215ca488-8eb2-4a38-b051-832323d5a0a3",
   "metadata": {},
   "outputs": [
    {
     "data": {
      "text/plain": [
       "array([11, 11, 11,  3,  4,  5,  6,  7,  8,  9, 10])"
      ]
     },
     "execution_count": 33,
     "metadata": {},
     "output_type": "execute_result"
    }
   ],
   "source": [
    "array"
   ]
  },
  {
   "cell_type": "code",
   "execution_count": 34,
   "id": "f125ec21-1905-4d30-b89d-240298d3d0b2",
   "metadata": {},
   "outputs": [],
   "source": [
    "array[0:2] = 10, 11"
   ]
  },
  {
   "cell_type": "code",
   "execution_count": 35,
   "id": "2482c9c6-99e6-4efe-813e-7f661d28dfc4",
   "metadata": {},
   "outputs": [
    {
     "data": {
      "text/plain": [
       "array([10, 11, 11,  3,  4,  5,  6,  7,  8,  9, 10])"
      ]
     },
     "execution_count": 35,
     "metadata": {},
     "output_type": "execute_result"
    }
   ],
   "source": [
    "array"
   ]
  },
  {
   "cell_type": "code",
   "execution_count": null,
   "id": "e714b196-db0c-4119-b8ea-f5448066c9e5",
   "metadata": {},
   "outputs": [],
   "source": []
  }
 ],
 "metadata": {
  "kernelspec": {
   "display_name": "Python 3 (ipykernel)",
   "language": "python",
   "name": "python3"
  },
  "language_info": {
   "codemirror_mode": {
    "name": "ipython",
    "version": 3
   },
   "file_extension": ".py",
   "mimetype": "text/x-python",
   "name": "python",
   "nbconvert_exporter": "python",
   "pygments_lexer": "ipython3",
   "version": "3.12.0"
  }
 },
 "nbformat": 4,
 "nbformat_minor": 5
}
